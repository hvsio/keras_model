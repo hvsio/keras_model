{
 "cells": [
  {
   "cell_type": "code",
   "execution_count": 4,
   "metadata": {
    "pycharm": {
     "is_executing": false
    }
   },
   "outputs": [
    {
     "name": "stdout",
     "output_type": "stream",
     "text": [
      "(60000, 28, 28)\n",
      "(28, 28)\n"
     ]
    }
   ],
   "source": [
    "import tensorflow as tf\n",
    "from tensorflow.keras.models import Sequential\n",
    "from tensorflow.keras.layers import Dense, Dropout, LSTM\n",
    "\n",
    "mnist = tf.keras.datasets.mnist\n",
    "(x_train, y_train), (x_test, y_test) = mnist.load_data()\n",
    "print(x_train.shape)\n",
    "print(x_train[0].shape)"
   ]
  },
  {
   "cell_type": "code",
   "execution_count": 12,
   "metadata": {},
   "outputs": [
    {
     "name": "stdout",
     "output_type": "stream",
     "text": [
      "Epoch 1/3\n",
      "1875/1875 [==============================] - 126s 67ms/step - loss: 98.3976 - accuracy: 0.1083 - val_loss: 2.3010 - val_accuracy: 0.1135\n",
      "Epoch 2/3\n",
      "1875/1875 [==============================] - 135s 72ms/step - loss: 2.8521 - accuracy: 0.1098 - val_loss: 2.3011 - val_accuracy: 0.1135\n",
      "Epoch 3/3\n",
      "1875/1875 [==============================] - 151s 80ms/step - loss: 2.4678 - accuracy: 0.1128 - val_loss: 2.3011 - val_accuracy: 0.1135\n"
     ]
    },
    {
     "data": {
      "text/plain": [
       "<tensorflow.python.keras.callbacks.History at 0x20713afe898>"
      ]
     },
     "execution_count": 12,
     "metadata": {},
     "output_type": "execute_result"
    }
   ],
   "source": [
    "model = Sequential()\n",
    "x_train = x_train/255.0\n",
    "x_test = x_test/255.0\n",
    "\n",
    "\n",
    "# model.add(LSTM(128, input_shape=(x_train.shape[1:]), activation='relu', return_sequences=True)) #128 cells, one of our layers\n",
    "# model.add(Dropout(0.2))\n",
    "\n",
    "# model.add(LSTM(128, activation='relu'))\n",
    "# model.add(Dropout(0.2))\n",
    "\n",
    "# model.add(Dense(32, activation='relu')) #32 nodes\n",
    "# model.add(Dropout(0.2))\n",
    "\n",
    "# model.add(Dense(10, activation='softmax')) #32 nodes\n",
    "\n",
    "# opt = tf.keras.optimizers.Adam(lr=1e-3, decay=1e-5) #decay is decaying the rate/size of steps, overtime shrinking learning rate\n",
    "\n",
    "model.add(CuDNNLSTM(128, input_shape=(x_train.shape[1:]), return_sequences=True)) #128 cells, one of our layers\n",
    "model.add(Dropout(0.2))\n",
    "\n",
    "model.add(CuDNNLSTM(128)\n",
    "model.add(Dropout(0.2))\n",
    "\n",
    "model.add(Dense(32, activation='relu')) #32 nodes\n",
    "model.add(Dropout(0.2))\n",
    "\n",
    "model.add(Dense(10, activation='softmax')) #32 nodes\n",
    "\n",
    "opt = tf.keras.optimizers.Adam(lr=1e-3, decay=1e-5) #decay is decaying the rate/size of steps, overtime shrinking learning rate\n",
    "\n",
    "model.compile(loss='sparse_categorical_crossentropy',\n",
    "              optimizer=opt,\n",
    "              metrics=['accuracy'])\n",
    "\n",
    "model.fit(x_train, y_train, epochs=3, validation_data=(x_test, y_test))"
   ]
  }
 ],
 "metadata": {
  "kernelspec": {
   "display_name": "Python 3",
   "language": "python",
   "name": "python3"
  },
  "language_info": {
   "codemirror_mode": {
    "name": "ipython",
    "version": 3
   },
   "file_extension": ".py",
   "mimetype": "text/x-python",
   "name": "python",
   "nbconvert_exporter": "python",
   "pygments_lexer": "ipython3",
   "version": "3.7.0"
  }
 },
 "nbformat": 4,
 "nbformat_minor": 1
}
