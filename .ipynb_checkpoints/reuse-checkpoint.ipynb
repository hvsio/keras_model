{
 "cells": [
  {
   "cell_type": "code",
   "execution_count": 9,
   "metadata": {
    "pycharm": {
     "is_executing": false
    }
   },
   "outputs": [
    {
     "name": "stdout",
     "output_type": "stream",
     "text": [
      "Found 600 images belonging to 3 classes.\n",
      "Found 300 images belonging to 3 classes.\n",
      "Train features: (200, 25088)\n",
      "Test features: (100, 25088)\n"
     ]
    }
   ],
   "source": [
    "from tensorflow.keras.applications import vgg16\n",
    "import numpy as np\n",
    "\n",
    "#loading conv layers - aka classifiers\n",
    "#btw last layer has shape 7x7x512\n",
    "from tensorflow.python.keras.preprocessing.image import ImageDataGenerator\n",
    "vgg_conv = vgg16.VGG16(weights='imagenet', include_top=False, input_shape=(224,224,3))\n",
    "\n",
    "train_dir = './datasets/train'\n",
    "test_dir = './datasets/test'\n",
    "\n",
    "nTrain = 200\n",
    "nTest = 100\n",
    "batch_size=20\n",
    "\n",
    "#network output tensor shape\n",
    "train_features = np.zeros(shape=(nTrain, 7, 7, 512))\n",
    "train_labels = np.zeros(shape=(nTrain, 3))\n",
    "\n",
    "test_features = np.zeros(shape=(nTest, 7, 7, 512))\n",
    "test_labels = np.zeros(shape=(nTest, 3))\n",
    "\n",
    "datagen = ImageDataGenerator(rescale=1./255)\n",
    "train_generator = datagen.flow_from_directory(\n",
    "    train_dir,\n",
    "    target_size=(224,224),\n",
    "    batch_size=batch_size,\n",
    "    class_mode='categorical',\n",
    "    shuffle=True\n",
    ")\n",
    "\n",
    "test_generator = datagen.flow_from_directory(\n",
    "    test_dir,\n",
    "    target_size=(224,224),\n",
    "    batch_size=batch_size,\n",
    "    class_mode='categorical',\n",
    "    shuffle=True\n",
    ")\n",
    "\n",
    "#iterate through batches\n",
    "for i, (inputs_batch, labels_batch) in enumerate(train_generator):\n",
    "    if i*batch_size >= nTrain:\n",
    "        break\n",
    "    if i*batch_size < nTest:\n",
    "        \n",
    "        features_batch = vgg_conv.predict(inputs_batch)\n",
    "        train_features[i*batch_size:(i+1)*batch_size] = features_batch\n",
    "        train_labels[i*batch_size:(i+1)*batch_size] = labels_batch\n",
    "        \n",
    "for i, (inputs_batch, labels_batch) in enumerate(test_generator):\n",
    "    if i*batch_size >= nTest:\n",
    "        break\n",
    "    if i*batch_size < nTest:\n",
    "        features_batch = vgg_conv.predict(inputs_batch)\n",
    "        test_features[i*batch_size:(i+1)*batch_size] = features_batch\n",
    "        test_labels[i*batch_size:(i+1)*batch_size] = labels_batch\n",
    "    \n",
    "train_features_vec = np.reshape(train_features, (nTrain, 7*7*512))\n",
    "test_features_vec = np.reshape(test_features, (nTest, 7*7*512))\n",
    "\n",
    "print(\"Train features: {}\".format(train_features_vec.shape))\n",
    "print(\"Test features: {}\".format(test_features_vec.shape))"
   ]
  },
  {
   "cell_type": "code",
   "execution_count": 10,
   "metadata": {
    "pycharm": {
     "name": "#%%\n"
    }
   },
   "outputs": [
    {
     "name": "stdout",
     "output_type": "stream",
     "text": [
      "Epoch 1/20\n",
      "10/10 [==============================] - 3s 243ms/step - loss: 1.0579 - acc: 0.4307 - val_loss: 1.3187 - val_acc: 0.6300\n",
      "Epoch 2/20\n",
      "10/10 [==============================] - 2s 160ms/step - loss: 0.1739 - acc: 0.4977 - val_loss: 0.3572 - val_acc: 0.8900\n",
      "Epoch 3/20\n",
      "10/10 [==============================] - 2s 164ms/step - loss: 0.0581 - acc: 0.4519 - val_loss: 0.6922 - val_acc: 0.8000\n",
      "Epoch 4/20\n",
      "10/10 [==============================] - 2s 160ms/step - loss: 0.0833 - acc: 0.5069 - val_loss: 0.4018 - val_acc: 0.8700\n",
      "Epoch 5/20\n",
      "10/10 [==============================] - 2s 160ms/step - loss: 0.0218 - acc: 0.4744 - val_loss: 0.4008 - val_acc: 0.8900\n",
      "Epoch 6/20\n",
      "10/10 [==============================] - 2s 167ms/step - loss: 0.0130 - acc: 0.4692 - val_loss: 0.3880 - val_acc: 0.8800\n",
      "Epoch 7/20\n",
      "10/10 [==============================] - 2s 152ms/step - loss: 0.0017 - acc: 0.5017 - val_loss: 0.3236 - val_acc: 0.8900\n",
      "Epoch 8/20\n",
      "10/10 [==============================] - 2s 163ms/step - loss: 0.0045 - acc: 0.4811 - val_loss: 0.6948 - val_acc: 0.8400\n",
      "Epoch 9/20\n",
      "10/10 [==============================] - ETA: 0s - loss: 0.0033 - acc: 0.561 - 2s 179ms/step - loss: 0.0032 - acc: 0.5559 - val_loss: 0.4439 - val_acc: 0.8900\n",
      "Epoch 10/20\n",
      "10/10 [==============================] - 2s 183ms/step - loss: 6.4889e-04 - acc: 0.5298 - val_loss: 0.3192 - val_acc: 0.8700\n",
      "Epoch 11/20\n",
      "10/10 [==============================] - 2s 179ms/step - loss: 7.7132e-04 - acc: 0.5333 - val_loss: 0.3551 - val_acc: 0.8900\n",
      "Epoch 12/20\n",
      "10/10 [==============================] - 2s 179ms/step - loss: 9.7781e-04 - acc: 0.4792 - val_loss: 0.3751 - val_acc: 0.8900\n",
      "Epoch 13/20\n",
      "10/10 [==============================] - 2s 182ms/step - loss: 3.8451e-04 - acc: 0.5135 - val_loss: 0.3244 - val_acc: 0.9100\n",
      "Epoch 14/20\n",
      "10/10 [==============================] - 2s 185ms/step - loss: 8.9503e-05 - acc: 0.4908 - val_loss: 0.4026 - val_acc: 0.8900\n",
      "Epoch 15/20\n",
      "10/10 [==============================] - 2s 179ms/step - loss: 9.0322e-05 - acc: 0.5234 - val_loss: 0.5658 - val_acc: 0.8800\n",
      "Epoch 16/20\n",
      "10/10 [==============================] - 2s 175ms/step - loss: 1.2153e-04 - acc: 0.5199 - val_loss: 0.6069 - val_acc: 0.8800\n",
      "Epoch 17/20\n",
      "10/10 [==============================] - 2s 180ms/step - loss: 1.8343e-04 - acc: 0.5231 - val_loss: 0.5856 - val_acc: 0.8600\n",
      "Epoch 18/20\n",
      "10/10 [==============================] - 2s 160ms/step - loss: 0.0064 - acc: 0.5044 - val_loss: 0.7308 - val_acc: 0.8700\n",
      "Epoch 19/20\n",
      "10/10 [==============================] - 2s 162ms/step - loss: 0.0137 - acc: 0.4872 - val_loss: 0.4212 - val_acc: 0.9200\n",
      "Epoch 20/20\n",
      "10/10 [==============================] - 2s 164ms/step - loss: 4.3430e-05 - acc: 0.4717 - val_loss: 0.4494 - val_acc: 0.9000\n"
     ]
    }
   ],
   "source": [
    "from tensorflow.keras.layers import Dense, Dropout\n",
    "from tensorflow.keras import Sequential, optimizers\n",
    "\n",
    "model = Sequential()\n",
    "model.add(Dense(512, activation='relu', input_dim=7*7*512))\n",
    "model.add(Dropout(0.5))\n",
    "model.add(Dense(3, activation='softmax'))\n",
    "\n",
    "### TRAIN\n",
    "model.compile(optimizer=optimizers.RMSprop(lr=2e-4),\n",
    "              loss='categorical_crossentropy',\n",
    "              metrics=['acc'])\n",
    "\n",
    "history = model.fit(train_features_vec,\n",
    "                    train_labels,\n",
    "                    epochs=20,\n",
    "                    batch_size=batch_size,\n",
    "                    validation_data=(test_features_vec, test_labels))"
   ]
  },
  {
   "cell_type": "code",
   "execution_count": 13,
   "metadata": {},
   "outputs": [
    {
     "name": "stdout",
     "output_type": "stream",
     "text": [
      "[0 0 0 0 0 0 0 0 0 0 0 0 0 0 0 0 0 0 0 0 0 0 0 0 0 0 0 0 0 0 0 0 0 0 0 0 0\n",
      " 0 0 0 0 0 0 0 0 0 0 0 0 0 0 0 0 0 0 0 0 0 0 0 0 0 0 0 0 0 0 0 0 0 0 0 0 0\n",
      " 0 0 0 0 0 0 0 0 0 0 0 0 0 0 0 0 0 0 0 0 0 0 0 0 0 0 1 1 1 1 1 1 1 1 1 1 1\n",
      " 1 1 1 1 1 1 1 1 1 1 1 1 1 1 1 1 1 1 1 1 1 1 1 1 1 1 1 1 1 1 1 1 1 1 1 1 1\n",
      " 1 1 1 1 1 1 1 1 1 1 1 1 1 1 1 1 1 1 1 1 1 1 1 1 1 1 1 1 1 1 1 1 1 1 1 1 1\n",
      " 1 1 1 1 1 1 1 1 1 1 1 1 1 1 1 2 2 2 2 2 2 2 2 2 2 2 2 2 2 2 2 2 2 2 2 2 2\n",
      " 2 2 2 2 2 2 2 2 2 2 2 2 2 2 2 2 2 2 2 2 2 2 2 2 2 2 2 2 2 2 2 2 2 2 2 2 2\n",
      " 2 2 2 2 2 2 2 2 2 2 2 2 2 2 2 2 2 2 2 2 2 2 2 2 2 2 2 2 2 2 2 2 2 2 2 2 2\n",
      " 2 2 2 2]\n",
      "{'carton': 0, 'ceramic': 1, 'paper': 2}\n",
      "The list of classes ['carton', 'ceramic', 'paper']\n"
     ]
    }
   ],
   "source": [
    "# CHECK PERFORMANCE\n",
    "\n",
    "file_names = test_generator.filenames\n",
    "ground_truth = test_generator.classes\n",
    "label2index = test_generator.class_indices\n",
    "idx2label = list(label2index.keys())\n",
    "\n",
    "print(label2index)\n",
    "print(f\"The list of classes {idx2label}\")\n"
   ]
  },
  {
   "cell_type": "code",
   "execution_count": 19,
   "metadata": {},
   "outputs": [
    {
     "name": "stdout",
     "output_type": "stream",
     "text": [
      "[1 1 1 0 0 0 0 0 1 0 2 0 2 0 1 2 0 0 0 1 0 0 1 1 0 1 0 1 1 0 0 2 1 0 0 2 1\n",
      " 1 0 2 0 2 1 1 2 2 0 2 2 0 2 1 0 2 2 0 2 2 0 0 1 1 1 1 1 0 2 1 1 0 1 2 0 2\n",
      " 1 0 0 1 0 1 1 2 1 1 2 1 0 1 2 0 2 0 1 2 1 1 0 1 2 2]\n",
      "[[1.07558034e-08 9.99999881e-01 1.29378293e-07]\n",
      " [2.39934877e-07 9.99999642e-01 1.47459275e-07]\n",
      " [6.77540513e-08 9.99999881e-01 4.63855704e-10]\n",
      " [9.99950647e-01 2.35696480e-05 2.57562242e-05]\n",
      " [9.99999881e-01 1.16332792e-08 1.01153503e-07]\n",
      " [9.99999523e-01 3.96910167e-07 1.13661372e-07]\n",
      " [9.99985456e-01 1.33895473e-05 1.18971320e-06]\n",
      " [9.99996424e-01 3.56990904e-06 3.32772743e-08]\n",
      " [4.18814685e-04 9.99148607e-01 4.32580360e-04]\n",
      " [9.99837279e-01 7.02241960e-05 9.24643537e-05]\n",
      " [2.75366299e-04 1.66389168e-06 9.99722898e-01]\n",
      " [5.63759804e-01 4.31900203e-01 4.33990452e-03]\n",
      " [8.49148591e-07 2.04888906e-07 9.99998927e-01]\n",
      " [9.03588235e-01 2.38331500e-03 9.40284505e-02]\n",
      " [1.06453581e-06 5.72359324e-01 4.27639574e-01]\n",
      " [5.08404128e-06 2.05213439e-07 9.99994755e-01]\n",
      " [8.91691446e-01 1.06210016e-01 2.09858571e-03]\n",
      " [1.00000000e+00 5.00803523e-08 3.86657284e-09]\n",
      " [1.00000000e+00 4.36336212e-09 8.28132851e-09]\n",
      " [1.39676081e-02 9.85963047e-01 6.92910180e-05]\n",
      " [5.73098123e-01 2.76037608e-04 4.26625848e-01]\n",
      " [9.98975515e-01 1.00619660e-03 1.82808344e-05]\n",
      " [2.28561566e-05 9.99976873e-01 2.30326279e-07]\n",
      " [4.56856064e-08 9.99999166e-01 8.77633113e-07]\n",
      " [7.70563900e-01 2.04898976e-02 2.08946154e-01]\n",
      " [1.96829496e-05 9.48717356e-01 5.12629785e-02]\n",
      " [9.99273837e-01 5.92042517e-04 1.34140617e-04]\n",
      " [7.32066439e-07 9.99943852e-01 5.54014332e-05]\n",
      " [1.29575923e-08 9.99581397e-01 4.18634212e-04]\n",
      " [1.00000000e+00 1.29798861e-09 9.97277372e-10]\n",
      " [9.99998331e-01 5.88067621e-07 1.09545249e-06]\n",
      " [5.54599956e-06 2.54360202e-05 9.99969006e-01]\n",
      " [3.23494481e-10 1.00000000e+00 3.14533217e-08]\n",
      " [9.96228218e-01 3.90922168e-07 3.77147412e-03]\n",
      " [9.45686936e-01 1.91715640e-06 5.43111376e-02]\n",
      " [1.20770835e-07 3.52333857e-11 9.99999881e-01]\n",
      " [1.68224986e-04 9.99827504e-01 4.33263904e-06]\n",
      " [4.74543867e-06 9.99995112e-01 6.51437091e-08]\n",
      " [9.97227132e-01 2.65387958e-03 1.18969023e-04]\n",
      " [3.47930109e-05 3.34415716e-07 9.99964833e-01]\n",
      " [9.83735979e-01 5.44017414e-03 1.08237993e-02]\n",
      " [8.89147174e-08 3.59534269e-09 9.99999881e-01]\n",
      " [8.66230380e-07 9.99999166e-01 1.29914413e-09]\n",
      " [3.26007366e-01 4.48068947e-01 2.25923702e-01]\n",
      " [3.22436914e-04 6.73456157e-07 9.99676943e-01]\n",
      " [2.60307848e-01 8.71639349e-04 7.38820493e-01]\n",
      " [9.99817908e-01 8.32767619e-05 9.88218526e-05]\n",
      " [7.62588097e-05 8.58598378e-06 9.99915123e-01]\n",
      " [1.81254176e-08 3.57389518e-09 1.00000000e+00]\n",
      " [9.18448567e-01 4.34220340e-08 8.15513507e-02]\n",
      " [1.87620003e-06 2.32513120e-08 9.99998093e-01]\n",
      " [1.57266986e-05 9.99984145e-01 9.34346787e-08]\n",
      " [9.96193528e-01 3.80328973e-03 3.19658920e-06]\n",
      " [9.74439081e-06 1.18631810e-07 9.99990106e-01]\n",
      " [6.63340744e-03 3.35119621e-05 9.93333042e-01]\n",
      " [9.99646425e-01 3.48588917e-04 5.02812145e-06]\n",
      " [1.44620927e-07 3.22199389e-06 9.99996662e-01]\n",
      " [2.93361099e-05 1.32444200e-06 9.99969363e-01]\n",
      " [9.99927282e-01 6.74358889e-05 5.30060242e-06]\n",
      " [9.99996305e-01 1.70935820e-07 3.58669490e-06]\n",
      " [4.96559238e-09 1.00000000e+00 1.34166855e-09]\n",
      " [6.16251498e-07 9.99999404e-01 1.26192035e-08]\n",
      " [3.54469301e-11 1.00000000e+00 2.68341651e-08]\n",
      " [4.99988528e-05 9.99950051e-01 1.73615895e-08]\n",
      " [3.57057252e-05 9.99964237e-01 3.96716437e-09]\n",
      " [9.99997973e-01 1.86011539e-06 1.01555408e-07]\n",
      " [4.25906815e-02 2.94448023e-06 9.57406402e-01]\n",
      " [1.96162475e-07 9.99994278e-01 5.43290116e-06]\n",
      " [1.73061025e-07 9.99997616e-01 2.31968625e-06]\n",
      " [9.31544423e-01 5.96511927e-05 6.83958977e-02]\n",
      " [9.53700692e-06 9.99857426e-01 1.33012378e-04]\n",
      " [1.33824302e-04 8.89680166e-07 9.99865294e-01]\n",
      " [9.99997377e-01 1.45401623e-06 1.17860498e-06]\n",
      " [1.48498014e-01 6.99724012e-07 8.51501226e-01]\n",
      " [9.68029326e-07 9.99998927e-01 6.09917663e-08]\n",
      " [9.99710262e-01 1.94495033e-06 2.87806295e-04]\n",
      " [9.99844313e-01 9.31384925e-09 1.55655478e-04]\n",
      " [2.71940110e-07 9.99999523e-01 2.46877136e-07]\n",
      " [1.00000000e+00 1.46371937e-09 2.34105202e-09]\n",
      " [2.22191550e-02 9.75594342e-01 2.18658056e-03]\n",
      " [1.70122890e-04 9.89868283e-01 9.96152125e-03]\n",
      " [7.15516853e-06 8.94896239e-02 9.10503209e-01]\n",
      " [3.40346783e-01 4.43958849e-01 2.15694338e-01]\n",
      " [4.32868632e-07 9.99999523e-01 3.54155905e-09]\n",
      " [8.11695354e-05 5.17992412e-05 9.99866962e-01]\n",
      " [1.39307673e-03 9.98606741e-01 2.02930124e-07]\n",
      " [9.99970555e-01 1.28383860e-07 2.93408175e-05]\n",
      " [7.95934647e-02 9.20399368e-01 7.25980681e-06]\n",
      " [1.08892243e-06 1.12615730e-08 9.99998927e-01]\n",
      " [9.99826252e-01 1.49395487e-06 1.72173372e-04]\n",
      " [6.27466962e-02 1.15080290e-02 9.25745308e-01]\n",
      " [9.99999762e-01 2.44912997e-07 1.93383087e-09]\n",
      " [2.87966031e-06 9.99997139e-01 1.85744842e-09]\n",
      " [7.24193524e-05 7.59176646e-06 9.99920011e-01]\n",
      " [4.62297933e-09 1.00000000e+00 6.83395951e-10]\n",
      " [1.09228185e-05 9.99988914e-01 9.79533468e-08]\n",
      " [9.99914050e-01 5.39147209e-07 8.53209785e-05]\n",
      " [5.48599104e-08 1.00000000e+00 1.58604632e-08]\n",
      " [1.02549247e-05 7.87139186e-07 9.99988914e-01]\n",
      " [3.07964820e-06 8.11930292e-08 9.99996781e-01]]\n",
      "Encountered 1 error/s\n"
     ]
    },
    {
     "name": "stderr",
     "output_type": "stream",
     "text": [
      "c:\\users\\alicj\\appdata\\local\\programs\\python\\python37\\lib\\site-packages\\ipykernel_launcher.py:9: DeprecationWarning: elementwise comparison failed; this will raise an error in the future.\n",
      "  if __name__ == '__main__':\n"
     ]
    }
   ],
   "source": [
    "# predicts each img in the array\n",
    "# predictions = model.predict_classes(test_features_vec)\n",
    "predictions = np.argmax(model.predict(test_features_vec), axis=-1)\n",
    "print(predictions)\n",
    "\n",
    "probs = model.predict(test_features_vec)\n",
    "print(probs)\n",
    "\n",
    "err = np.where(predictions != ground_truth)[0]\n",
    "print(f\"Encountered {len(err)} error/s\")"
   ]
  },
  {
   "cell_type": "code",
   "execution_count": 23,
   "metadata": {},
   "outputs": [
    {
     "name": "stdout",
     "output_type": "stream",
     "text": [
      "Original label: carton\\n02971356_113.JPEG, Prediction: ceramic, Confidence: 0.9999998807907104\n"
     ]
    },
    {
     "ename": "NameError",
     "evalue": "name 'load_img' is not defined",
     "output_type": "error",
     "traceback": [
      "\u001b[1;31m---------------------------------------------------------------------------\u001b[0m",
      "\u001b[1;31mNameError\u001b[0m                                 Traceback (most recent call last)",
      "\u001b[1;32m<ipython-input-23-aa7cbcd44edf>\u001b[0m in \u001b[0;36m<module>\u001b[1;34m\u001b[0m\n\u001b[0;32m      7\u001b[0m         \u001b[0mprobs\u001b[0m\u001b[1;33m[\u001b[0m\u001b[0merr\u001b[0m\u001b[1;33m[\u001b[0m\u001b[0mi\u001b[0m\u001b[1;33m]\u001b[0m\u001b[1;33m]\u001b[0m\u001b[1;33m[\u001b[0m\u001b[0mpred_class\u001b[0m\u001b[1;33m]\u001b[0m\u001b[1;33m\u001b[0m\u001b[0m\n\u001b[0;32m      8\u001b[0m     ))\n\u001b[1;32m----> 9\u001b[1;33m     \u001b[0moriginal\u001b[0m \u001b[1;33m=\u001b[0m \u001b[0mload_img\u001b[0m\u001b[1;33m(\u001b[0m\u001b[1;34m'{}/{}'\u001b[0m\u001b[1;33m.\u001b[0m\u001b[0mformat\u001b[0m\u001b[1;33m(\u001b[0m\u001b[0mtest_dir\u001b[0m\u001b[1;33m,\u001b[0m \u001b[0mfile_names\u001b[0m\u001b[1;33m[\u001b[0m\u001b[0merr\u001b[0m\u001b[1;33m[\u001b[0m\u001b[0mi\u001b[0m\u001b[1;33m]\u001b[0m\u001b[1;33m]\u001b[0m\u001b[1;33m)\u001b[0m\u001b[1;33m)\u001b[0m\u001b[1;33m\u001b[0m\u001b[0m\n\u001b[0m\u001b[0;32m     10\u001b[0m     \u001b[0mplt\u001b[0m\u001b[1;33m.\u001b[0m\u001b[0maxis\u001b[0m\u001b[1;33m(\u001b[0m\u001b[1;34m\"off\"\u001b[0m\u001b[1;33m)\u001b[0m\u001b[1;33m\u001b[0m\u001b[0m\n\u001b[0;32m     11\u001b[0m     \u001b[0mplt\u001b[0m\u001b[1;33m.\u001b[0m\u001b[0mimshow\u001b[0m\u001b[1;33m(\u001b[0m\u001b[0moriginal\u001b[0m\u001b[1;33m)\u001b[0m\u001b[1;33m\u001b[0m\u001b[0m\n",
      "\u001b[1;31mNameError\u001b[0m: name 'load_img' is not defined"
     ]
    }
   ],
   "source": [
    "for i in range(len(err)):\n",
    "    pred_class = np.argmax(probs[err[i]])\n",
    "    pred_label = idx2label[pred_class]\n",
    "    print(\"Original label: {}, Prediction: {}, Confidence: {}\".format(\n",
    "        file_names[err[i]].split(\"/\")[0],\n",
    "        pred_label,\n",
    "        probs[err[i]][pred_class]\n",
    "    ))\n",
    "    original = load_img('{}/{}'.format(test_dir, file_names[err[i]]))\n",
    "    plt.axis(\"off\")\n",
    "    plt.imshow(original)\n",
    "    plt.show()"
   ]
  }
 ],
 "metadata": {
  "kernelspec": {
   "display_name": "Python 3",
   "language": "python",
   "name": "python3"
  },
  "language_info": {
   "codemirror_mode": {
    "name": "ipython",
    "version": 3
   },
   "file_extension": ".py",
   "mimetype": "text/x-python",
   "name": "python",
   "nbconvert_exporter": "python",
   "pygments_lexer": "ipython3",
   "version": "3.7.0"
  },
  "pycharm": {
   "stem_cell": {
    "cell_type": "raw",
    "metadata": {
     "collapsed": false
    },
    "source": []
   }
  }
 },
 "nbformat": 4,
 "nbformat_minor": 1
}
