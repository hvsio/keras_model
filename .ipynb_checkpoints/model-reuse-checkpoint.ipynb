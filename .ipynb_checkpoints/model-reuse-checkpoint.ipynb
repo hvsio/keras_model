{
 "cells": [
  {
   "cell_type": "code",
   "execution_count": null,
   "id": "median-publisher",
   "metadata": {},
   "outputs": [],
   "source": [
    "from tensorflow.keras.models import load_model\n",
    "import argparse\n",
    "import pickle\n",
    "import cv2\n",
    "\n",
    "image_path = './PYIMG/singles/carton.jpg'\n",
    "model_path = './PYIMG/model.model'\n",
    "label_bin = 'label_lb.pickle'\n",
    "dim = 32\n",
    "flatten = True\n",
    "\n",
    "image = cv2.imread(image_path)\n",
    "output = image.copy()\n",
    "image = cv2.resize(image, (dim, dim))\n",
    "image = image.astype('float')/255.0\n",
    "\n",
    "if flatten:\n",
    "    image = image.flatten()\n",
    "    image = image.reshape((1, image.shape[0]))\n",
    "else:\n",
    "    image = image.reshape((1, image.shape[0], image.shape[1], image.shape[2]))\n"
   ]
  },
  {
   "cell_type": "code",
   "execution_count": null,
   "id": "employed-gardening",
   "metadata": {},
   "outputs": [],
   "source": [
    "lb = pickle.loads(open(label_bin), 'rb').read()\n",
    "predictions = model.predict(image)\n",
    "i = predictions.argmax(axis=1)[0]\n",
    "label = lb.classes_[i]"
   ]
  },
  {
   "cell_type": "code",
   "execution_count": null,
   "id": "incorporate-console",
   "metadata": {},
   "outputs": [],
   "source": [
    "text = \"{}: {:.2f}%\".format(label, preds[0][i]*100)\n",
    "cv2.putText(output, text, (10,30), cv2.FONT_HERSHEY_SIMPLEX, 0.7, (0,0,255), 2)\n",
    "cv2.imshow(\"Image\", output)\n",
    "cv2.waitKey(0)"
   ]
  }
 ],
 "metadata": {
  "kernelspec": {
   "display_name": "Python 3",
   "language": "python",
   "name": "python3"
  },
  "language_info": {
   "codemirror_mode": {
    "name": "ipython",
    "version": 3
   },
   "file_extension": ".py",
   "mimetype": "text/x-python",
   "name": "python",
   "nbconvert_exporter": "python",
   "pygments_lexer": "ipython3",
   "version": "3.7.9"
  }
 },
 "nbformat": 4,
 "nbformat_minor": 5
}
