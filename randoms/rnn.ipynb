{
 "cells": [
  {
   "cell_type": "code",
   "execution_count": null,
   "metadata": {
    "pycharm": {
     "is_executing": true
    }
   },
   "outputs": [
    {
     "name": "stdout",
     "output_type": "stream",
     "text": [
      "[[1.23247e+00 0.00000e+00 8.14000e+00 ... 2.10000e+01 3.96900e+02\n",
      "  1.87200e+01]\n",
      " [2.17700e-02 8.25000e+01 2.03000e+00 ... 1.47000e+01 3.95380e+02\n",
      "  3.11000e+00]\n",
      " [4.89822e+00 0.00000e+00 1.81000e+01 ... 2.02000e+01 3.75520e+02\n",
      "  3.26000e+00]\n",
      " ...\n",
      " [3.46600e-02 3.50000e+01 6.06000e+00 ... 1.69000e+01 3.62250e+02\n",
      "  7.83000e+00]\n",
      " [2.14918e+00 0.00000e+00 1.95800e+01 ... 1.47000e+01 2.61950e+02\n",
      "  1.57900e+01]\n",
      " [1.43900e-02 6.00000e+01 2.93000e+00 ... 1.56000e+01 3.76700e+02\n",
      "  4.38000e+00]]\n",
      "13\n",
      "Epoch 1/1000\n",
      "101/101 [==============================] - 0s 1ms/step - loss: 103.9538 - mse: 103.9538 - mae: 7.3882\n",
      "Epoch 2/1000\n",
      "101/101 [==============================] - 0s 1ms/step - loss: 73.3545 - mse: 73.3545 - mae: 6.2540\n",
      "Epoch 3/1000\n",
      "101/101 [==============================] - 0s 1ms/step - loss: 71.8708 - mse: 71.8708 - mae: 6.1495\n",
      "Epoch 4/1000\n",
      "101/101 [==============================] - 0s 1ms/step - loss: 69.2495 - mse: 69.2495 - mae: 6.0174\n",
      "Epoch 5/1000\n",
      "101/101 [==============================] - 0s 1ms/step - loss: 67.1382 - mse: 67.1382 - mae: 5.9254\n",
      "Epoch 6/1000\n",
      "101/101 [==============================] - 0s 1ms/step - loss: 65.0810 - mse: 65.0810 - mae: 5.8099\n",
      "Epoch 7/1000\n",
      "101/101 [==============================] - 0s 1ms/step - loss: 63.3541 - mse: 63.3541 - mae: 5.8866\n",
      "Epoch 8/1000\n",
      "101/101 [==============================] - 0s 2ms/step - loss: 61.9874 - mse: 61.9874 - mae: 5.7484\n",
      "Epoch 9/1000\n",
      "101/101 [==============================] - 0s 1ms/step - loss: 60.9966 - mse: 60.9966 - mae: 5.6652\n",
      "Epoch 10/1000\n",
      "101/101 [==============================] - 0s 1ms/step - loss: 60.8457 - mse: 60.8457 - mae: 5.7026\n",
      "Epoch 11/1000\n",
      "101/101 [==============================] - 0s 1ms/step - loss: 57.9393 - mse: 57.9393 - mae: 5.6633\n",
      "Epoch 12/1000\n",
      "101/101 [==============================] - 0s 2ms/step - loss: 58.2149 - mse: 58.2149 - mae: 5.5255\n",
      "Epoch 13/1000\n",
      "101/101 [==============================] - 0s 2ms/step - loss: 57.0401 - mse: 57.0401 - mae: 5.4884\n",
      "Epoch 14/1000\n",
      "101/101 [==============================] - 0s 1ms/step - loss: 55.2610 - mse: 55.2610 - mae: 5.5150\n",
      "Epoch 15/1000\n",
      "101/101 [==============================] - 0s 1ms/step - loss: 55.7986 - mse: 55.7986 - mae: 5.4639\n",
      "Epoch 16/1000\n",
      "101/101 [==============================] - 0s 1ms/step - loss: 53.6427 - mse: 53.6427 - mae: 5.3953\n",
      "Epoch 17/1000\n",
      "101/101 [==============================] - 0s 2ms/step - loss: 53.9278 - mse: 53.9278 - mae: 5.4603\n",
      "Epoch 18/1000\n",
      "101/101 [==============================] - 0s 2ms/step - loss: 51.8351 - mse: 51.8351 - mae: 5.3207\n",
      "Epoch 19/1000\n",
      "101/101 [==============================] - 0s 1ms/step - loss: 51.7527 - mse: 51.7527 - mae: 5.2839\n",
      "Epoch 20/1000\n",
      "101/101 [==============================] - 0s 1ms/step - loss: 51.1943 - mse: 51.1943 - mae: 5.3398\n",
      "Epoch 21/1000\n",
      "101/101 [==============================] - 0s 2ms/step - loss: 50.1009 - mse: 50.1009 - mae: 5.1884\n",
      "Epoch 22/1000\n",
      "101/101 [==============================] - 0s 5ms/step - loss: 49.9035 - mse: 49.9035 - mae: 5.3308\n",
      "Epoch 23/1000\n",
      "101/101 [==============================] - 0s 2ms/step - loss: 50.4035 - mse: 50.4035 - mae: 5.2258\n",
      "Epoch 24/1000\n",
      "101/101 [==============================] - 0s 2ms/step - loss: 49.7171 - mse: 49.7171 - mae: 5.2477\n",
      "Epoch 25/1000\n",
      "101/101 [==============================] - 0s 2ms/step - loss: 48.4471 - mse: 48.4471 - mae: 5.2932\n",
      "Epoch 26/1000\n",
      "101/101 [==============================] - ETA: 0s - loss: 49.1866 - mse: 49.1866 - mae: 5.321 - 0s 3ms/step - loss: 48.5202 - mse: 48.5202 - mae: 5.2664\n",
      "Epoch 27/1000\n",
      "101/101 [==============================] - 0s 3ms/step - loss: 48.5345 - mse: 48.5345 - mae: 5.1643\n",
      "Epoch 28/1000\n",
      "101/101 [==============================] - 0s 2ms/step - loss: 47.6844 - mse: 47.6844 - mae: 5.1760\n",
      "Epoch 29/1000\n",
      "101/101 [==============================] - 0s 2ms/step - loss: 47.1371 - mse: 47.1371 - mae: 5.1293\n",
      "Epoch 30/1000\n",
      "101/101 [==============================] - 0s 2ms/step - loss: 47.6250 - mse: 47.6250 - mae: 5.1524\n",
      "Epoch 31/1000\n",
      "101/101 [==============================] - 0s 2ms/step - loss: 46.8376 - mse: 46.8376 - mae: 5.2025\n",
      "Epoch 32/1000\n",
      "101/101 [==============================] - 0s 2ms/step - loss: 47.0469 - mse: 47.0469 - mae: 5.1466\n",
      "Epoch 33/1000\n",
      "101/101 [==============================] - 0s 1ms/step - loss: 46.3851 - mse: 46.3851 - mae: 5.1452\n",
      "Epoch 34/1000\n",
      "101/101 [==============================] - 0s 1ms/step - loss: 46.2495 - mse: 46.2495 - mae: 5.1870\n",
      "Epoch 35/1000\n",
      "101/101 [==============================] - 0s 1ms/step - loss: 45.5808 - mse: 45.5808 - mae: 5.1303\n",
      "Epoch 36/1000\n",
      "101/101 [==============================] - 0s 2ms/step - loss: 44.7620 - mse: 44.7620 - mae: 5.0804\n",
      "Epoch 37/1000\n",
      "101/101 [==============================] - 0s 2ms/step - loss: 44.5713 - mse: 44.5713 - mae: 5.0481 0s - loss: 54.7296 - mse: 54.7296 - mae: 5.\n",
      "Epoch 38/1000\n",
      "101/101 [==============================] - 0s 2ms/step - loss: 45.7368 - mse: 45.7368 - mae: 5.1474\n",
      "Epoch 39/1000\n",
      "101/101 [==============================] - 0s 2ms/step - loss: 44.6573 - mse: 44.6573 - mae: 5.1305\n",
      "Epoch 40/1000\n",
      "101/101 [==============================] - 0s 2ms/step - loss: 44.4820 - mse: 44.4820 - mae: 5.0315A: 0s - loss: 53.2891 - mse: 53.2891 - mae: 5.50\n",
      "Epoch 41/1000\n",
      "101/101 [==============================] - 0s 2ms/step - loss: 44.6567 - mse: 44.6567 - mae: 5.0789\n",
      "Epoch 42/1000\n",
      "101/101 [==============================] - 0s 3ms/step - loss: 44.3548 - mse: 44.3548 - mae: 5.0591\n",
      "Epoch 43/1000\n",
      "101/101 [==============================] - 0s 3ms/step - loss: 44.8576 - mse: 44.8576 - mae: 5.1320\n",
      "Epoch 44/1000\n",
      "101/101 [==============================] - 0s 3ms/step - loss: 43.9477 - mse: 43.9477 - mae: 5.0240\n",
      "Epoch 45/1000\n",
      "101/101 [==============================] - 0s 2ms/step - loss: 44.4094 - mse: 44.4094 - mae: 5.0986\n",
      "Epoch 46/1000\n",
      "  1/101 [..............................] - ETA: 0s - loss: 20.6425 - mse: 20.6425 - mae: 3.8973"
     ]
    }
   ],
   "source": [
    "from tensorflow.keras.models import Sequential\n",
    "from tensorflow.keras.layers import Dense, Activation\n",
    "from tensorflow.keras.datasets import boston_housing\n",
    "\n",
    "(X_train, Y_train), (X_test, Y_test) = boston_housing.load_data()\n",
    "print(X_train)\n",
    "\n",
    "nFeatures = X_train.shape[1] #shape of the input data\n",
    "print(nFeatures)\n",
    "# fx (30,50,50,3) - 3 channels, 30 imgs of 50x50 size\n",
    "model = Sequential()\n",
    "#single output, kernel - the moving matrix over the pic\n",
    "model.add(Dense(1, input_shape=(nFeatures,), kernel_initializer='uniform'))\n",
    "model.add(Activation('linear'))\n",
    "\n",
    "#optimizer - how the network weights are updated\n",
    "#loss - cost of the function\n",
    "#metrics - metrics according to which we evaluate the model in training\n",
    "model.compile(optimizer='rmsprop', loss='mse', metrics=['mse', 'mae'])\n",
    "\n",
    "#actual training\n",
    "model.fit(X_train, Y_train, batch_size=4, epochs=1000)\n",
    "model.summary()\n"
   ]
  },
  {
   "cell_type": "code",
   "execution_count": 10,
   "metadata": {},
   "outputs": [
    {
     "name": "stdout",
     "output_type": "stream",
     "text": [
      "4/4 [==============================] - 0s 2ms/step - loss: 22.8377 - mse: 22.8377 - mae: 3.4599\n",
      "[ 7.2 18.8 19.  27.  22.2]\n",
      "[ 9.49644  19.845684 22.309742 30.795368 24.68893 ]\n"
     ]
    }
   ],
   "source": [
    "#find the loss on the test data\n",
    "model.evaluate(X_test, Y_test, verbose=True)\n",
    "\n",
    "# get the predictions\n",
    "Y_pred = model.predict(X_test)\n",
    "\n",
    "print(Y_test[:5])\n",
    "print(Y_pred[:5,0])"
   ]
  }
 ],
 "metadata": {
  "kernelspec": {
   "display_name": "Python 3",
   "language": "python",
   "name": "python3"
  },
  "language_info": {
   "codemirror_mode": {
    "name": "ipython",
    "version": 3
   },
   "file_extension": ".py",
   "mimetype": "text/x-python",
   "name": "python",
   "nbconvert_exporter": "python",
   "pygments_lexer": "ipython3",
   "version": "3.7.0"
  },
  "pycharm": {
   "stem_cell": {
    "cell_type": "raw",
    "metadata": {
     "collapsed": false
    },
    "source": []
   }
  }
 },
 "nbformat": 4,
 "nbformat_minor": 1
}
