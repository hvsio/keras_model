{
 "cells": [
  {
   "cell_type": "code",
   "execution_count": 4,
   "id": "curious-hartford",
   "metadata": {
    "pycharm": {
     "is_executing": false
    }
   },
   "outputs": [
    {
     "name": "stdout",
     "text": [
      "['../scripts/output\\\\buddha\\\\00000000.jpg', '../scripts/output\\\\buddha\\\\00000001.jpg', '../scripts/output\\\\buddha\\\\00000003.jpg', '../scripts/output\\\\buddha\\\\00000004.jpg', '../scripts/output\\\\buddha\\\\00000005.jpg', '../scripts/output\\\\buddha\\\\00000006.jpg', '../scripts/output\\\\buddha\\\\00000007.jpg', '../scripts/output\\\\buddha\\\\00000008.jpg', '../scripts/output\\\\buddha\\\\00000009.jpg', '../scripts/output\\\\buddha\\\\00000010.jpg', '../scripts/output\\\\buddha\\\\00000011.jpg', '../scripts/output\\\\buddha\\\\00000012.jpg', '../scripts/output\\\\buddha\\\\00000013.jpg', '../scripts/output\\\\buddha\\\\00000014.jpg', '../scripts/output\\\\buddha\\\\00000016.jpg', '../scripts/output\\\\buddha\\\\00000017.jpg', '../scripts/output\\\\buddha\\\\00000018.jpg', '../scripts/output\\\\buddha\\\\00000019.jpg', '../scripts/output\\\\buddha\\\\00000020.jpg', '../scripts/output\\\\buddha\\\\00000021.jpg', '../scripts/output\\\\buddha\\\\00000022.jpg', '../scripts/output\\\\buddha\\\\00000023.jpg', '../scripts/output\\\\buddha\\\\00000024.jpg', '../scripts/output\\\\buddha\\\\00000025.jpg', '../scripts/output\\\\buddha\\\\00000026.jpg', '../scripts/output\\\\buddha\\\\00000027.jpg', '../scripts/output\\\\buddha\\\\00000028.jpg', '../scripts/output\\\\buddha\\\\00000029.jpg', '../scripts/output\\\\buddha\\\\00000030.jpg', '../scripts/output\\\\buddha\\\\00000031.jpg', '../scripts/output\\\\buddha\\\\00000032.jpg', '../scripts/output\\\\buddha\\\\00000033.jpg', '../scripts/output\\\\buddha\\\\00000034.jpg', '../scripts/output\\\\buddha\\\\00000035.jpg', '../scripts/output\\\\buddha\\\\00000036.jpg', '../scripts/output\\\\buddha\\\\00000037.jpg', '../scripts/output\\\\buddha\\\\00000038.jpg', '../scripts/output\\\\buddha\\\\00000039.jpg', '../scripts/output\\\\buddha\\\\00000040.jpg', '../scripts/output\\\\buddha\\\\00000041.jpg', '../scripts/output\\\\buddha\\\\00000042.jpg', '../scripts/output\\\\buddha\\\\00000043.jpg', '../scripts/output\\\\buddha\\\\00000044.jpg', '../scripts/output\\\\buddha\\\\00000045.jpg', '../scripts/output\\\\buddha\\\\00000046.jpg', '../scripts/output\\\\sphinx\\\\00000000.jpg', '../scripts/output\\\\sphinx\\\\00000001.jpg', '../scripts/output\\\\sphinx\\\\00000002.jpg', '../scripts/output\\\\sphinx\\\\00000003.jpg', '../scripts/output\\\\sphinx\\\\00000004.jpg', '../scripts/output\\\\sphinx\\\\00000005.jpg', '../scripts/output\\\\sphinx\\\\00000006.jpg', '../scripts/output\\\\sphinx\\\\00000008.jpg', '../scripts/output\\\\sphinx\\\\00000009.jpg', '../scripts/output\\\\sphinx\\\\00000010.jpg', '../scripts/output\\\\sphinx\\\\00000011.jpg', '../scripts/output\\\\sphinx\\\\00000012.jpg', '../scripts/output\\\\sphinx\\\\00000014.jpg', '../scripts/output\\\\sphinx\\\\00000016.jpg', '../scripts/output\\\\sphinx\\\\00000017.jpg', '../scripts/output\\\\sphinx\\\\00000018.jpg', '../scripts/output\\\\sphinx\\\\00000019.jpg', '../scripts/output\\\\sphinx\\\\00000021.jpg', '../scripts/output\\\\sphinx\\\\00000022.jpg', '../scripts/output\\\\sphinx\\\\00000023.jpg', '../scripts/output\\\\sphinx\\\\00000024.jpg', '../scripts/output\\\\sphinx\\\\00000025.jpg', '../scripts/output\\\\sphinx\\\\00000026.jpg', '../scripts/output\\\\sphinx\\\\00000027.jpg', '../scripts/output\\\\sphinx\\\\00000028.jpg', '../scripts/output\\\\sphinx\\\\00000029.jpg', '../scripts/output\\\\sphinx\\\\00000030.jpg', '../scripts/output\\\\sphinx\\\\00000032.jpg', '../scripts/output\\\\sphinx\\\\00000033.jpg', '../scripts/output\\\\sphinx\\\\00000035.jpg', '../scripts/output\\\\sphinx\\\\00000036.jpg', '../scripts/output\\\\sphinx\\\\00000037.jpg', '../scripts/output\\\\sphinx\\\\00000038.jpg', '../scripts/output\\\\sphinx\\\\00000039.jpg', '../scripts/output\\\\sphinx\\\\00000040.jpg', '../scripts/output\\\\sphinx\\\\00000041.jpg', '../scripts/output\\\\sphinx\\\\00000042.jpg', '../scripts/output\\\\sphinx\\\\00000043.jpg', '../scripts/output\\\\sphinx\\\\00000044.jpg', '../scripts/output\\\\sphinx\\\\00000046.jpg', '../scripts/output\\\\sphinx\\\\00000047.jpg']\n['../scripts/output\\\\buddha\\\\00000000.jpg', '../scripts/output\\\\buddha\\\\00000001.jpg', '../scripts/output\\\\buddha\\\\00000003.jpg', '../scripts/output\\\\buddha\\\\00000004.jpg', '../scripts/output\\\\buddha\\\\00000005.jpg', '../scripts/output\\\\buddha\\\\00000006.jpg', '../scripts/output\\\\buddha\\\\00000007.jpg', '../scripts/output\\\\buddha\\\\00000008.jpg', '../scripts/output\\\\buddha\\\\00000009.jpg', '../scripts/output\\\\buddha\\\\00000010.jpg', '../scripts/output\\\\buddha\\\\00000011.jpg', '../scripts/output\\\\buddha\\\\00000012.jpg', '../scripts/output\\\\buddha\\\\00000013.jpg', '../scripts/output\\\\buddha\\\\00000014.jpg', '../scripts/output\\\\buddha\\\\00000016.jpg', '../scripts/output\\\\buddha\\\\00000017.jpg', '../scripts/output\\\\buddha\\\\00000018.jpg', '../scripts/output\\\\buddha\\\\00000019.jpg', '../scripts/output\\\\buddha\\\\00000020.jpg', '../scripts/output\\\\buddha\\\\00000021.jpg', '../scripts/output\\\\buddha\\\\00000022.jpg', '../scripts/output\\\\buddha\\\\00000023.jpg', '../scripts/output\\\\buddha\\\\00000024.jpg', '../scripts/output\\\\buddha\\\\00000025.jpg', '../scripts/output\\\\buddha\\\\00000026.jpg', '../scripts/output\\\\buddha\\\\00000027.jpg', '../scripts/output\\\\buddha\\\\00000028.jpg', '../scripts/output\\\\buddha\\\\00000029.jpg', '../scripts/output\\\\buddha\\\\00000030.jpg', '../scripts/output\\\\buddha\\\\00000031.jpg', '../scripts/output\\\\buddha\\\\00000032.jpg', '../scripts/output\\\\buddha\\\\00000033.jpg', '../scripts/output\\\\buddha\\\\00000034.jpg', '../scripts/output\\\\buddha\\\\00000035.jpg', '../scripts/output\\\\buddha\\\\00000036.jpg', '../scripts/output\\\\buddha\\\\00000037.jpg', '../scripts/output\\\\buddha\\\\00000038.jpg', '../scripts/output\\\\buddha\\\\00000039.jpg', '../scripts/output\\\\buddha\\\\00000040.jpg', '../scripts/output\\\\buddha\\\\00000041.jpg', '../scripts/output\\\\buddha\\\\00000042.jpg', '../scripts/output\\\\buddha\\\\00000043.jpg', '../scripts/output\\\\buddha\\\\00000044.jpg', '../scripts/output\\\\buddha\\\\00000045.jpg', '../scripts/output\\\\buddha\\\\00000046.jpg', '../scripts/output\\\\sphinx\\\\00000000.jpg', '../scripts/output\\\\sphinx\\\\00000001.jpg', '../scripts/output\\\\sphinx\\\\00000002.jpg', '../scripts/output\\\\sphinx\\\\00000003.jpg', '../scripts/output\\\\sphinx\\\\00000004.jpg', '../scripts/output\\\\sphinx\\\\00000005.jpg']\n[1, 1, 1, 1, 1, 1, 1, 1, 1, 1, 1, 1, 1, 1, 1, 1, 1, 1, 1, 1, 1, 1, 1, 1, 1, 1, 1, 1, 1, 1, 1, 1, 1, 1, 1, 1, 1, 1, 1, 1, 1, 1, 1, 1, 1, 0, 0, 0, 0, 0, 0]\ntrain size: 51\nval size: 17\n"
     ],
     "output_type": "stream"
    }
   ],
   "source": [
    "from random import shuffle\n",
    "import glob\n",
    "import numpy as np\n",
    "import h5py\n",
    "import cv2\n",
    "shuffle_data = True\n",
    "hdf5_path = '../h5_data/dataset.hdf5'\n",
    "train_path = '../scripts/output/*/*.jpg'\n",
    "data_order = 'tf'\n",
    "\n",
    "addrs = glob.glob(train_path)\n",
    "labels = [0 if 'sphinx' in addr else 1 for addr in addrs]\n",
    "print(addrs)\n",
    "\n",
    "def shuffleInZip(addrs, labels):\n",
    "    c = list(zip(addrs, labels))\n",
    "    shuffle(c)\n",
    "    addrs, labels = zip(*c)\n",
    "    \n",
    "shuffleInZip(addrs, labels)\n",
    "    \n",
    "train_addrs = addrs[0:int(0.6*len(addrs))]\n",
    "train_labels = labels[0:int(0.6*len(labels))]\n",
    "print(train_addrs)\n",
    "print(train_labels)\n",
    "\n",
    "val_addrs = addrs[int(0.6*len(addrs)):int(0.8*len(addrs))]\n",
    "val_labels = labels[int(0.6*len(addrs)):int(0.8*len(addrs))]\n",
    "\n",
    "test_addrs = addrs[int(0.8*len(addrs)):]\n",
    "test_labels = labels[int(0.8*len(labels)):]\n",
    "\n",
    "print('train size:',len(train_addrs))\n",
    "print('val size:',len(val_addrs))\n",
    "\n",
    "for x in addrs:\n",
    "    f = open(x, 'r')\n",
    "    "
   ]
  },
  {
   "cell_type": "code",
   "execution_count": 5,
   "id": "pointed-factory",
   "metadata": {
    "pycharm": {
     "is_executing": false
    }
   },
   "outputs": [
    {
     "traceback": [
      "\u001b[1;31m---------------------------------------------------------------------------\u001b[0m",
      "\u001b[1;31mValueError\u001b[0m                                Traceback (most recent call last)",
      "\u001b[1;32m<ipython-input-5-6d3eb6682037>\u001b[0m in \u001b[0;36m<module>\u001b[1;34m\u001b[0m\n\u001b[0;32m      4\u001b[0m                                                  \u001b[0mdata\u001b[0m\u001b[1;33m=\u001b[0m\u001b[1;33m(\u001b[0m\u001b[0mtrain_addrs\u001b[0m\u001b[1;33m)\u001b[0m\u001b[1;33m,\u001b[0m\u001b[1;33m\u001b[0m\u001b[1;33m\u001b[0m\u001b[0m\n\u001b[0;32m      5\u001b[0m                                                  \u001b[0mshape\u001b[0m\u001b[1;33m=\u001b[0m\u001b[1;33m(\u001b[0m\u001b[1;36m0\u001b[0m\u001b[1;33m,\u001b[0m\u001b[1;36m224\u001b[0m\u001b[1;33m,\u001b[0m\u001b[1;36m224\u001b[0m\u001b[1;33m,\u001b[0m\u001b[1;36m3\u001b[0m\u001b[1;33m)\u001b[0m\u001b[1;33m,\u001b[0m\u001b[1;33m\u001b[0m\u001b[1;33m\u001b[0m\u001b[0m\n\u001b[1;32m----> 6\u001b[1;33m                                                  chunks=True)\n\u001b[0m\u001b[0;32m      7\u001b[0m     train_storage_labels = f.create_dataset('SphinxLabels',\n\u001b[0;32m      8\u001b[0m                                                     \u001b[0mdata\u001b[0m\u001b[1;33m=\u001b[0m\u001b[0mtrain_labels\u001b[0m\u001b[1;33m,\u001b[0m\u001b[1;33m\u001b[0m\u001b[1;33m\u001b[0m\u001b[0m\n",
      "\u001b[1;32mc:\\users\\alicj\\anaconda_3\\envs\\p6\\lib\\site-packages\\h5py\\_hl\\group.py\u001b[0m in \u001b[0;36mcreate_dataset\u001b[1;34m(self, name, shape, dtype, data, **kwds)\u001b[0m\n\u001b[0;32m    134\u001b[0m \u001b[1;33m\u001b[0m\u001b[0m\n\u001b[0;32m    135\u001b[0m         \u001b[1;32mwith\u001b[0m \u001b[0mphil\u001b[0m\u001b[1;33m:\u001b[0m\u001b[1;33m\u001b[0m\u001b[1;33m\u001b[0m\u001b[0m\n\u001b[1;32m--> 136\u001b[1;33m             \u001b[0mdsid\u001b[0m \u001b[1;33m=\u001b[0m \u001b[0mdataset\u001b[0m\u001b[1;33m.\u001b[0m\u001b[0mmake_new_dset\u001b[0m\u001b[1;33m(\u001b[0m\u001b[0mself\u001b[0m\u001b[1;33m,\u001b[0m \u001b[0mshape\u001b[0m\u001b[1;33m,\u001b[0m \u001b[0mdtype\u001b[0m\u001b[1;33m,\u001b[0m \u001b[0mdata\u001b[0m\u001b[1;33m,\u001b[0m \u001b[1;33m**\u001b[0m\u001b[0mkwds\u001b[0m\u001b[1;33m)\u001b[0m\u001b[1;33m\u001b[0m\u001b[1;33m\u001b[0m\u001b[0m\n\u001b[0m\u001b[0;32m    137\u001b[0m             \u001b[0mdset\u001b[0m \u001b[1;33m=\u001b[0m \u001b[0mdataset\u001b[0m\u001b[1;33m.\u001b[0m\u001b[0mDataset\u001b[0m\u001b[1;33m(\u001b[0m\u001b[0mdsid\u001b[0m\u001b[1;33m)\u001b[0m\u001b[1;33m\u001b[0m\u001b[1;33m\u001b[0m\u001b[0m\n\u001b[0;32m    138\u001b[0m             \u001b[1;32mif\u001b[0m \u001b[0mname\u001b[0m \u001b[1;32mis\u001b[0m \u001b[1;32mnot\u001b[0m \u001b[1;32mNone\u001b[0m\u001b[1;33m:\u001b[0m\u001b[1;33m\u001b[0m\u001b[1;33m\u001b[0m\u001b[0m\n",
      "\u001b[1;32mc:\\users\\alicj\\anaconda_3\\envs\\p6\\lib\\site-packages\\h5py\\_hl\\dataset.py\u001b[0m in \u001b[0;36mmake_new_dset\u001b[1;34m(parent, shape, dtype, data, chunks, compression, shuffle, fletcher32, maxshape, compression_opts, fillvalue, scaleoffset, track_times, external, track_order, dcpl)\u001b[0m\n\u001b[0;32m     93\u001b[0m         \u001b[0mshape\u001b[0m \u001b[1;33m=\u001b[0m \u001b[0mtuple\u001b[0m\u001b[1;33m(\u001b[0m\u001b[0mshape\u001b[0m\u001b[1;33m)\u001b[0m\u001b[1;33m\u001b[0m\u001b[1;33m\u001b[0m\u001b[0m\n\u001b[0;32m     94\u001b[0m         \u001b[1;32mif\u001b[0m \u001b[0mdata\u001b[0m \u001b[1;32mis\u001b[0m \u001b[1;32mnot\u001b[0m \u001b[1;32mNone\u001b[0m \u001b[1;32mand\u001b[0m \u001b[1;33m(\u001b[0m\u001b[0mnumpy\u001b[0m\u001b[1;33m.\u001b[0m\u001b[0mproduct\u001b[0m\u001b[1;33m(\u001b[0m\u001b[0mshape\u001b[0m\u001b[1;33m,\u001b[0m \u001b[0mdtype\u001b[0m\u001b[1;33m=\u001b[0m\u001b[0mnumpy\u001b[0m\u001b[1;33m.\u001b[0m\u001b[0mulonglong\u001b[0m\u001b[1;33m)\u001b[0m \u001b[1;33m!=\u001b[0m \u001b[0mnumpy\u001b[0m\u001b[1;33m.\u001b[0m\u001b[0mproduct\u001b[0m\u001b[1;33m(\u001b[0m\u001b[0mdata\u001b[0m\u001b[1;33m.\u001b[0m\u001b[0mshape\u001b[0m\u001b[1;33m,\u001b[0m \u001b[0mdtype\u001b[0m\u001b[1;33m=\u001b[0m\u001b[0mnumpy\u001b[0m\u001b[1;33m.\u001b[0m\u001b[0mulonglong\u001b[0m\u001b[1;33m)\u001b[0m\u001b[1;33m)\u001b[0m\u001b[1;33m:\u001b[0m\u001b[1;33m\u001b[0m\u001b[1;33m\u001b[0m\u001b[0m\n\u001b[1;32m---> 95\u001b[1;33m             \u001b[1;32mraise\u001b[0m \u001b[0mValueError\u001b[0m\u001b[1;33m(\u001b[0m\u001b[1;34m\"Shape tuple is incompatible with data\"\u001b[0m\u001b[1;33m)\u001b[0m\u001b[1;33m\u001b[0m\u001b[1;33m\u001b[0m\u001b[0m\n\u001b[0m\u001b[0;32m     96\u001b[0m \u001b[1;33m\u001b[0m\u001b[0m\n\u001b[0;32m     97\u001b[0m     \u001b[0mtmp_shape\u001b[0m \u001b[1;33m=\u001b[0m \u001b[0mmaxshape\u001b[0m \u001b[1;32mif\u001b[0m \u001b[0mmaxshape\u001b[0m \u001b[1;32mis\u001b[0m \u001b[1;32mnot\u001b[0m \u001b[1;32mNone\u001b[0m \u001b[1;32melse\u001b[0m \u001b[0mshape\u001b[0m\u001b[1;33m\u001b[0m\u001b[1;33m\u001b[0m\u001b[0m\n",
      "\u001b[1;31mValueError\u001b[0m: Shape tuple is incompatible with data"
     ],
     "ename": "ValueError",
     "evalue": "Shape tuple is incompatible with data",
     "output_type": "error"
    }
   ],
   "source": [
    "with h5py.File(hdf5_path, 'w') as f:\n",
    "    \n",
    "    train_storage_img = f.create_dataset('SphinxImg',\n",
    "                                                 data=(train_addrs),\n",
    "                                                 shape=(0,224,224,3),\n",
    "                                                 chunks=True)\n",
    "    train_storage_labels = f.create_dataset('SphinxLabels',\n",
    "                                                    data=train_labels,\n",
    "                                                    shape=(10000,1),\n",
    "                                                    chunks=True)\n",
    "\n"
   ]
  }
 ],
 "metadata": {
  "kernelspec": {
   "display_name": "Python 3",
   "language": "python",
   "name": "python3"
  },
  "language_info": {
   "codemirror_mode": {
    "name": "ipython",
    "version": 3
   },
   "file_extension": ".py",
   "mimetype": "text/x-python",
   "name": "python",
   "nbconvert_exporter": "python",
   "pygments_lexer": "ipython3",
   "version": "3.7.9"
  },
  "pycharm": {
   "stem_cell": {
    "cell_type": "raw",
    "source": [],
    "metadata": {
     "collapsed": false
    }
   }
  }
 },
 "nbformat": 4,
 "nbformat_minor": 5
}